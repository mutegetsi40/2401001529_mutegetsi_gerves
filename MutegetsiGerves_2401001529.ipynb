{
  "nbformat": 4,
  "nbformat_minor": 0,
  "metadata": {
    "colab": {
      "provenance": [],
      "authorship_tag": "ABX9TyNSZ7jS+Fsl2NEOeGh8DW51",
      "include_colab_link": true
    },
    "kernelspec": {
      "name": "python3",
      "display_name": "Python 3"
    },
    "language_info": {
      "name": "python"
    }
  },
  "cells": [
    {
      "cell_type": "markdown",
      "metadata": {
        "id": "view-in-github",
        "colab_type": "text"
      },
      "source": [
        "<a href=\"https://colab.research.google.com/github/mutegetsi40/2401001529_mutegetsi_gerves/blob/main/MutegetsiGerves_2401001529.ipynb\" target=\"_parent\"><img src=\"https://colab.research.google.com/assets/colab-badge.svg\" alt=\"Open In Colab\"/></a>"
      ]
    },
    {
      "cell_type": "code",
      "execution_count": 16,
      "metadata": {
        "colab": {
          "base_uri": "https://localhost:8080/"
        },
        "id": "jqLO79-WVajk",
        "outputId": "652eed9a-b41c-4733-d1d6-2a374ba76df7"
      },
      "outputs": [
        {
          "output_type": "stream",
          "name": "stdout",
          "text": [
            "Skipped (has answers)\n",
            "--------------------\n",
            "Skipped (has answers)\n",
            "--------------------\n",
            "Title: how can i code in godot 4.3 that if enemy just see main player then play a animation?\n",
            "Link: https://stackoverflow.com/questions/79699242/how-can-i-code-in-godot-4-3-that-if-enemy-just-see-main-player-then-play-a-anima\n",
            "--------------------\n",
            "Skipped (has answers)\n",
            "--------------------\n",
            "Title: Extracting visible text from an epub viewer using epubjs\n",
            "Link: https://stackoverflow.com/questions/79699232/extracting-visible-text-from-an-epub-viewer-using-epubjs\n",
            "--------------------\n",
            "Title: Why WebTransport cannot connect to my server?\n",
            "Link: https://stackoverflow.com/questions/79699241/why-webtransport-cannot-connect-to-my-server\n",
            "--------------------\n",
            "Title: VS Code Python extension injects incorrect start up script oh-my-posh variables with shell integration\n",
            "Link: https://stackoverflow.com/questions/79699240/vs-code-python-extension-injects-incorrect-start-up-script-oh-my-posh-variables\n",
            "--------------------\n",
            "Title: Is the finish awaited process executed using multi thread or interrupt function in this scenario\n",
            "Link: https://stackoverflow.com/questions/79699227/is-the-finish-awaited-process-executed-using-multi-thread-or-interrupt-function\n",
            "--------------------\n",
            "Title: Type Checking in Vite/React Project: Why do I need tsc when tsserver is already working?\n",
            "Link: https://stackoverflow.com/questions/79699180/type-checking-in-vite-react-project-why-do-i-need-tsc-when-tsserver-is-already\n",
            "--------------------\n",
            "Skipped (has answers)\n",
            "--------------------\n",
            "Title: How to properly remove outliers in sensor data?\n",
            "Link: https://stackoverflow.com/questions/79699237/how-to-properly-remove-outliers-in-sensor-data\n",
            "--------------------\n",
            "Title: Is there any possible way of using gpu for AI/ML purposes in laptops which dont have nvidia chip set or any other alternative way?\n",
            "Link: https://stackoverflow.com/questions/79699238/is-there-any-possible-way-of-using-gpu-for-ai-ml-purposes-in-laptops-which-dont\n",
            "--------------------\n",
            "Title: Java awt TextArea messes up the window size\n",
            "Link: https://stackoverflow.com/questions/79698880/java-awt-textarea-messes-up-the-window-size\n",
            "--------------------\n",
            "Title: Not able to call FastMCP server using http or SSE protocol\n",
            "Link: https://stackoverflow.com/questions/79698941/not-able-to-call-fastmcp-server-using-http-or-sse-protocol\n",
            "--------------------\n",
            "Title: why Argoworkflows multi-app-docker-build image with kaniko fails\n",
            "Link: https://stackoverflow.com/questions/79699234/why-argoworkflows-multi-app-docker-build-image-with-kaniko-fails\n",
            "--------------------\n",
            "Skipped (has answers)\n",
            "--------------------\n",
            "Title: Import module installed with npm without node.js\n",
            "Link: https://stackoverflow.com/questions/79699231/import-module-installed-with-npm-without-node-js\n",
            "--------------------\n",
            "Skipped (has answers)\n",
            "--------------------\n",
            "Skipped (has answers)\n",
            "--------------------\n",
            "Skipped (has answers)\n",
            "--------------------\n",
            "Title: Will requests to my site lag and work slowly in django while waiting for celery results?\n",
            "Link: https://stackoverflow.com/questions/79698019/will-requests-to-my-site-lag-and-work-slowly-in-django-while-waiting-for-celery\n",
            "--------------------\n",
            "Skipped (has answers)\n",
            "--------------------\n",
            "Title: How to use relative path to get file in C drive but the current program file is in D drive?\n",
            "Link: https://stackoverflow.com/questions/79699163/how-to-use-relative-path-to-get-file-in-c-drive-but-the-current-program-file-is\n",
            "--------------------\n",
            "Title: Why does this CMake list variable expansion not behave as expected?\n",
            "Link: https://stackoverflow.com/questions/79693529/why-does-this-cmake-list-variable-expansion-not-behave-as-expected\n",
            "--------------------\n",
            "Skipped (has answers)\n",
            "--------------------\n",
            "Skipped (has answers)\n",
            "--------------------\n",
            "Skipped (has answers)\n",
            "--------------------\n",
            "Skipped (has answers)\n",
            "--------------------\n",
            "Title: Get the url from mozilla firefox\n",
            "Link: https://stackoverflow.com/questions/29557642/get-the-url-from-mozilla-firefox\n",
            "--------------------\n",
            "Skipped (has answers)\n",
            "--------------------\n"
          ]
        }
      ],
      "source": [
        "import requests\n",
        "import json\n",
        "\n",
        "# Install requests if not already installed\n",
        "try:\n",
        "    import requests\n",
        "except ImportError:\n",
        "    !pip install requests\n",
        "    import requests\n",
        "\n",
        "# Make the API request\n",
        "try:\n",
        "    response = requests.get('https://api.stackexchange.com/2.3/questions?order=desc&sort=activity&site=stackoverflow')\n",
        "    response.raise_for_status() # Raise an exception for bad status codes (4xx or 5xx)\n",
        "    data = response.json()\n",
        "\n",
        "    # Iterate through questions and print titles and links for those with no answers\n",
        "    for question in data.get('items', []): # Use .get() with a default empty list for safety\n",
        "        if question.get('answer_count', 0) == 0: # Use .get() with a default value for safety\n",
        "            print(\"Title:\", question.get('title'))\n",
        "            print(\"Link:\", question.get('link'))\n",
        "            print(\"-\" * 20) # Separator for clarity\n",
        "        else:\n",
        "            print(\"Skipped (has answers)\")\n",
        "            print(\"-\" * 20) # Separator for clarity\n",
        "\n",
        "except requests.exceptions.RequestException as e:\n",
        "    print(f\"Error during API request: {e}\")\n",
        "except json.JSONDecodeError:\n",
        "    print(\"Error decoding JSON response.\")\n",
        "except Exception as e:\n",
        "    print(f\"An unexpected error occurred: {e}\")"
      ]
    }
  ]
}